{
  "nbformat": 4,
  "nbformat_minor": 0,
  "metadata": {
    "colab": {
      "name": "CRS_correction.ipynb",
      "provenance": [],
      "collapsed_sections": [],
      "authorship_tag": "ABX9TyNUedpnz5qP515AirHmxBFS",
      "include_colab_link": true
    },
    "kernelspec": {
      "name": "python3",
      "display_name": "Python 3"
    }
  },
  "cells": [
    {
      "cell_type": "markdown",
      "metadata": {
        "id": "view-in-github",
        "colab_type": "text"
      },
      "source": [
        "<a href=\"https://colab.research.google.com/github/geoskimoto/Smaller-Projects-Collection/blob/master/CoorRefSys_correction.ipynb\" target=\"_parent\"><img src=\"https://colab.research.google.com/assets/colab-badge.svg\" alt=\"Open In Colab\"/></a>"
      ]
    },
    {
      "cell_type": "code",
      "metadata": {
        "colab": {
          "base_uri": "https://localhost:8080/"
        },
        "id": "t35b2fRZMW9i",
        "outputId": "ed885e74-88f1-47bf-cc2f-8e6f5047f521"
      },
      "source": [
        "pip install geopandas"
      ],
      "execution_count": null,
      "outputs": [
        {
          "output_type": "stream",
          "text": [
            "Collecting geopandas\n",
            "\u001b[?25l  Downloading https://files.pythonhosted.org/packages/f7/a4/e66aafbefcbb717813bf3a355c8c4fc3ed04ea1dd7feb2920f2f4f868921/geopandas-0.8.1-py2.py3-none-any.whl (962kB)\n",
            "\u001b[K     |████████████████████████████████| 972kB 5.3MB/s \n",
            "\u001b[?25hRequirement already satisfied: pandas>=0.23.0 in /usr/local/lib/python3.6/dist-packages (from geopandas) (1.1.4)\n",
            "Collecting fiona\n",
            "\u001b[?25l  Downloading https://files.pythonhosted.org/packages/37/94/4910fd55246c1d963727b03885ead6ef1cd3748a465f7b0239ab25dfc9a3/Fiona-1.8.18-cp36-cp36m-manylinux1_x86_64.whl (14.8MB)\n",
            "\u001b[K     |████████████████████████████████| 14.8MB 319kB/s \n",
            "\u001b[?25hCollecting pyproj>=2.2.0\n",
            "\u001b[?25l  Downloading https://files.pythonhosted.org/packages/e4/ab/280e80a67cfc109d15428c0ec56391fc03a65857b7727cf4e6e6f99a4204/pyproj-3.0.0.post1-cp36-cp36m-manylinux2010_x86_64.whl (6.4MB)\n",
            "\u001b[K     |████████████████████████████████| 6.5MB 43.4MB/s \n",
            "\u001b[?25hRequirement already satisfied: shapely in /usr/local/lib/python3.6/dist-packages (from geopandas) (1.7.1)\n",
            "Requirement already satisfied: pytz>=2017.2 in /usr/local/lib/python3.6/dist-packages (from pandas>=0.23.0->geopandas) (2018.9)\n",
            "Requirement already satisfied: numpy>=1.15.4 in /usr/local/lib/python3.6/dist-packages (from pandas>=0.23.0->geopandas) (1.18.5)\n",
            "Requirement already satisfied: python-dateutil>=2.7.3 in /usr/local/lib/python3.6/dist-packages (from pandas>=0.23.0->geopandas) (2.8.1)\n",
            "Requirement already satisfied: certifi in /usr/local/lib/python3.6/dist-packages (from fiona->geopandas) (2020.6.20)\n",
            "Requirement already satisfied: attrs>=17 in /usr/local/lib/python3.6/dist-packages (from fiona->geopandas) (20.2.0)\n",
            "Collecting click-plugins>=1.0\n",
            "  Downloading https://files.pythonhosted.org/packages/e9/da/824b92d9942f4e472702488857914bdd50f73021efea15b4cad9aca8ecef/click_plugins-1.1.1-py2.py3-none-any.whl\n",
            "Requirement already satisfied: six>=1.7 in /usr/local/lib/python3.6/dist-packages (from fiona->geopandas) (1.15.0)\n",
            "Collecting munch\n",
            "  Downloading https://files.pythonhosted.org/packages/cc/ab/85d8da5c9a45e072301beb37ad7f833cd344e04c817d97e0cc75681d248f/munch-2.5.0-py2.py3-none-any.whl\n",
            "Requirement already satisfied: click<8,>=4.0 in /usr/local/lib/python3.6/dist-packages (from fiona->geopandas) (7.1.2)\n",
            "Collecting cligj>=0.5\n",
            "  Downloading https://files.pythonhosted.org/packages/ba/06/e3440b1f2dc802d35f329f299ba96153e9fcbfdef75e17f4b61f79430c6a/cligj-0.7.0-py3-none-any.whl\n",
            "Installing collected packages: click-plugins, munch, cligj, fiona, pyproj, geopandas\n",
            "Successfully installed click-plugins-1.1.1 cligj-0.7.0 fiona-1.8.18 geopandas-0.8.1 munch-2.5.0 pyproj-3.0.0.post1\n"
          ],
          "name": "stdout"
        }
      ]
    },
    {
      "cell_type": "code",
      "metadata": {
        "id": "WaNQY069Lene"
      },
      "source": [
        "import geopandas as gpd\n",
        "import numpy as np\n",
        "import pandas as pd\n",
        "import pyproj\n",
        "from pyproj import Proj, transform\n",
        "import matplotlib.pyplot as plt"
      ],
      "execution_count": null,
      "outputs": []
    },
    {
      "cell_type": "code",
      "metadata": {
        "colab": {
          "base_uri": "https://localhost:8080/"
        },
        "id": "VKaXRNyfMJT4",
        "outputId": "bc2b280e-704a-4219-9d0a-135d025f3e5e"
      },
      "source": [
        "from google.colab import drive\n",
        "drive.mount('/content/gdrive')"
      ],
      "execution_count": null,
      "outputs": [
        {
          "output_type": "stream",
          "text": [
            "Drive already mounted at /content/gdrive; to attempt to forcibly remount, call drive.mount(\"/content/gdrive\", force_remount=True).\n"
          ],
          "name": "stdout"
        }
      ]
    },
    {
      "cell_type": "code",
      "metadata": {
        "colab": {
          "base_uri": "https://localhost:8080/"
        },
        "id": "aqkmaQH6M7wD",
        "outputId": "12b863e6-be6c-469b-9ebb-64d6833b25d4"
      },
      "source": [
        "cd /content/gdrive/My Drive/Projects/Work"
      ],
      "execution_count": null,
      "outputs": [
        {
          "output_type": "stream",
          "text": [
            "[Errno 2] No such file or directory: 'content/gdrive/My Drive/Projects/Work/SiteComparisons'\n",
            "/content\n"
          ],
          "name": "stdout"
        }
      ]
    },
    {
      "cell_type": "code",
      "metadata": {
        "colab": {
          "base_uri": "https://localhost:8080/"
        },
        "id": "cFURPQt6NHKs",
        "outputId": "7bab1cd2-4d4f-478a-aaf3-441bc1bd2ddc"
      },
      "source": [
        "ls"
      ],
      "execution_count": null,
      "outputs": [
        {
          "output_type": "stream",
          "text": [
            "\u001b[0m\u001b[01;34msample_data\u001b[0m/\n"
          ],
          "name": "stdout"
        }
      ]
    },
    {
      "cell_type": "code",
      "metadata": {
        "id": "jZFNRkgtNHwd"
      },
      "source": [
        "HF = gpd.read_file('HungaryFlat.shp')"
      ],
      "execution_count": null,
      "outputs": []
    },
    {
      "cell_type": "code",
      "metadata": {
        "id": "asAgj5itNcMX"
      },
      "source": [
        "HF.crs  #not displaying output --> need to correct crs"
      ],
      "execution_count": null,
      "outputs": []
    },
    {
      "cell_type": "code",
      "metadata": {
        "colab": {
          "base_uri": "https://localhost:8080/"
        },
        "id": "9bLvK7hpRU0x",
        "outputId": "46b6b061-fd2e-4ba0-98b3-c6875afa5cdb"
      },
      "source": [
        "HF.crs = {'init' :'epsg:26911'}"
      ],
      "execution_count": null,
      "outputs": [
        {
          "output_type": "stream",
          "text": [
            "/usr/local/lib/python3.6/dist-packages/pyproj/crs/crs.py:53: FutureWarning:\n",
            "\n",
            "'+init=<authority>:<code>' syntax is deprecated. '<authority>:<code>' is the preferred initialization method. When making the change, be mindful of axis order changes: https://pyproj4.github.io/pyproj/stable/gotchas.html#axis-order-changes-in-proj-6\n",
            "\n"
          ],
          "name": "stderr"
        }
      ]
    },
    {
      "cell_type": "code",
      "metadata": {
        "colab": {
          "base_uri": "https://localhost:8080/"
        },
        "id": "HpOK3GO6RUxh",
        "outputId": "ca28474c-18f5-4d39-a927-307426591bb1"
      },
      "source": [
        "HF.crs"
      ],
      "execution_count": null,
      "outputs": [
        {
          "output_type": "execute_result",
          "data": {
            "text/plain": [
              "<Projected CRS: EPSG:26911>\n",
              "Name: NAD83 / UTM zone 11N\n",
              "Axis Info [cartesian]:\n",
              "- E[east]: Easting (metre)\n",
              "- N[north]: Northing (metre)\n",
              "Area of Use:\n",
              "- name: North America - between 120°W and 114°W - onshore and offshore. Canada - Alberta; British Columbia; Northwest Territories; Nunavut. United States (USA) - California; Idaho; Nevada, Oregon; Washington.\n",
              "- bounds: (-120.0, 30.88, -114.0, 83.5)\n",
              "Coordinate Operation:\n",
              "- name: UTM zone 11N\n",
              "- method: Transverse Mercator\n",
              "Datum: North American Datum 1983\n",
              "- Ellipsoid: GRS 1980\n",
              "- Prime Meridian: Greenwich"
            ]
          },
          "metadata": {
            "tags": []
          },
          "execution_count": 75
        }
      ]
    },
    {
      "cell_type": "code",
      "metadata": {
        "colab": {
          "base_uri": "https://localhost:8080/",
          "height": 266
        },
        "id": "Lb88ZI8YozP_",
        "outputId": "7b6bd13d-0c2a-4aa4-9b52-fc829dcc3f26"
      },
      "source": [
        "HF"
      ],
      "execution_count": null,
      "outputs": [
        {
          "output_type": "execute_result",
          "data": {
            "text/html": [
              "<div>\n",
              "<style scoped>\n",
              "    .dataframe tbody tr th:only-of-type {\n",
              "        vertical-align: middle;\n",
              "    }\n",
              "\n",
              "    .dataframe tbody tr th {\n",
              "        vertical-align: top;\n",
              "    }\n",
              "\n",
              "    .dataframe thead th {\n",
              "        text-align: right;\n",
              "    }\n",
              "</style>\n",
              "<table border=\"1\" class=\"dataframe\">\n",
              "  <thead>\n",
              "    <tr style=\"text-align: right;\">\n",
              "      <th></th>\n",
              "      <th>TYPE</th>\n",
              "      <th>IDENT</th>\n",
              "      <th>LAT</th>\n",
              "      <th>LONG</th>\n",
              "      <th>Y_PROJ</th>\n",
              "      <th>X_PROJ</th>\n",
              "      <th>COMMENT</th>\n",
              "      <th>ALTITUDE</th>\n",
              "      <th>MODEL</th>\n",
              "      <th>geometry</th>\n",
              "    </tr>\n",
              "  </thead>\n",
              "  <tbody>\n",
              "    <tr>\n",
              "      <th>0</th>\n",
              "      <td>WAYPOINT</td>\n",
              "      <td>006</td>\n",
              "      <td>43.986579</td>\n",
              "      <td>-121.442592</td>\n",
              "      <td>4.871561e+06</td>\n",
              "      <td>624892.530215</td>\n",
              "      <td>25-SEP-09 10:26</td>\n",
              "      <td>4164.0</td>\n",
              "      <td>GPSMAP 76S</td>\n",
              "      <td>POINT (624892.530 4871561.150)</td>\n",
              "    </tr>\n",
              "    <tr>\n",
              "      <th>1</th>\n",
              "      <td>WAYPOINT</td>\n",
              "      <td>007</td>\n",
              "      <td>43.986731</td>\n",
              "      <td>-121.442680</td>\n",
              "      <td>4.871578e+06</td>\n",
              "      <td>624885.112036</td>\n",
              "      <td>25-SEP-09 10:26</td>\n",
              "      <td>4166.0</td>\n",
              "      <td>GPSMAP 76S</td>\n",
              "      <td>POINT (624885.112 4871577.978)</td>\n",
              "    </tr>\n",
              "    <tr>\n",
              "      <th>2</th>\n",
              "      <td>WAYPOINT</td>\n",
              "      <td>008</td>\n",
              "      <td>43.986779</td>\n",
              "      <td>-121.442730</td>\n",
              "      <td>4.871583e+06</td>\n",
              "      <td>624881.038550</td>\n",
              "      <td>25-SEP-09 10:26</td>\n",
              "      <td>4168.0</td>\n",
              "      <td>GPSMAP 76S</td>\n",
              "      <td>POINT (624881.039 4871583.238)</td>\n",
              "    </tr>\n",
              "    <tr>\n",
              "      <th>3</th>\n",
              "      <td>WAYPOINT</td>\n",
              "      <td>009</td>\n",
              "      <td>43.986841</td>\n",
              "      <td>-121.442784</td>\n",
              "      <td>4.871590e+06</td>\n",
              "      <td>624876.593645</td>\n",
              "      <td>25-SEP-09 10:26</td>\n",
              "      <td>4169.0</td>\n",
              "      <td>GPSMAP 76S</td>\n",
              "      <td>POINT (624876.594 4871590.027)</td>\n",
              "    </tr>\n",
              "    <tr>\n",
              "      <th>4</th>\n",
              "      <td>WAYPOINT</td>\n",
              "      <td>010</td>\n",
              "      <td>43.986888</td>\n",
              "      <td>-121.442831</td>\n",
              "      <td>4.871595e+06</td>\n",
              "      <td>624872.711268</td>\n",
              "      <td>25-SEP-09 10:27</td>\n",
              "      <td>4173.0</td>\n",
              "      <td>GPSMAP 76S</td>\n",
              "      <td>POINT (624872.711 4871595.150)</td>\n",
              "    </tr>\n",
              "    <tr>\n",
              "      <th>5</th>\n",
              "      <td>WAYPOINT</td>\n",
              "      <td>011</td>\n",
              "      <td>43.986898</td>\n",
              "      <td>-121.442877</td>\n",
              "      <td>4.871596e+06</td>\n",
              "      <td>624869.027845</td>\n",
              "      <td>25-SEP-09 10:27</td>\n",
              "      <td>4176.0</td>\n",
              "      <td>GPSMAP 76S</td>\n",
              "      <td>POINT (624869.028 4871596.152)</td>\n",
              "    </tr>\n",
              "    <tr>\n",
              "      <th>6</th>\n",
              "      <td>WAYPOINT</td>\n",
              "      <td>012</td>\n",
              "      <td>43.986937</td>\n",
              "      <td>-121.442844</td>\n",
              "      <td>4.871601e+06</td>\n",
              "      <td>624871.526545</td>\n",
              "      <td>25-SEP-09 10:27</td>\n",
              "      <td>4176.0</td>\n",
              "      <td>GPSMAP 76S</td>\n",
              "      <td>POINT (624871.527 4871600.539)</td>\n",
              "    </tr>\n",
              "  </tbody>\n",
              "</table>\n",
              "</div>"
            ],
            "text/plain": [
              "       TYPE IDENT  ...       MODEL                        geometry\n",
              "0  WAYPOINT   006  ...  GPSMAP 76S  POINT (624892.530 4871561.150)\n",
              "1  WAYPOINT   007  ...  GPSMAP 76S  POINT (624885.112 4871577.978)\n",
              "2  WAYPOINT   008  ...  GPSMAP 76S  POINT (624881.039 4871583.238)\n",
              "3  WAYPOINT   009  ...  GPSMAP 76S  POINT (624876.594 4871590.027)\n",
              "4  WAYPOINT   010  ...  GPSMAP 76S  POINT (624872.711 4871595.150)\n",
              "5  WAYPOINT   011  ...  GPSMAP 76S  POINT (624869.028 4871596.152)\n",
              "6  WAYPOINT   012  ...  GPSMAP 76S  POINT (624871.527 4871600.539)\n",
              "\n",
              "[7 rows x 10 columns]"
            ]
          },
          "metadata": {
            "tags": []
          },
          "execution_count": 76
        }
      ]
    },
    {
      "cell_type": "code",
      "metadata": {
        "id": "DhZ8vfS6ScnE"
      },
      "source": [
        "# HF.to_file('HFout.shp')"
      ],
      "execution_count": null,
      "outputs": []
    },
    {
      "cell_type": "code",
      "metadata": {
        "id": "maNr3iXEScdV"
      },
      "source": [
        "HF2 = gpd.GeoDataFrame(\n",
        "    HF, geometry=gpd.points_from_xy(HF.LONG, HF.LAT))"
      ],
      "execution_count": null,
      "outputs": []
    },
    {
      "cell_type": "code",
      "metadata": {
        "colab": {
          "base_uri": "https://localhost:8080/",
          "height": 266
        },
        "id": "EfI94Jaym143",
        "outputId": "c625c398-9e65-40b9-e967-f7be9c035236"
      },
      "source": [
        "HF2"
      ],
      "execution_count": null,
      "outputs": [
        {
          "output_type": "execute_result",
          "data": {
            "text/html": [
              "<div>\n",
              "<style scoped>\n",
              "    .dataframe tbody tr th:only-of-type {\n",
              "        vertical-align: middle;\n",
              "    }\n",
              "\n",
              "    .dataframe tbody tr th {\n",
              "        vertical-align: top;\n",
              "    }\n",
              "\n",
              "    .dataframe thead th {\n",
              "        text-align: right;\n",
              "    }\n",
              "</style>\n",
              "<table border=\"1\" class=\"dataframe\">\n",
              "  <thead>\n",
              "    <tr style=\"text-align: right;\">\n",
              "      <th></th>\n",
              "      <th>TYPE</th>\n",
              "      <th>IDENT</th>\n",
              "      <th>LAT</th>\n",
              "      <th>LONG</th>\n",
              "      <th>Y_PROJ</th>\n",
              "      <th>X_PROJ</th>\n",
              "      <th>COMMENT</th>\n",
              "      <th>ALTITUDE</th>\n",
              "      <th>MODEL</th>\n",
              "      <th>geometry</th>\n",
              "    </tr>\n",
              "  </thead>\n",
              "  <tbody>\n",
              "    <tr>\n",
              "      <th>0</th>\n",
              "      <td>WAYPOINT</td>\n",
              "      <td>006</td>\n",
              "      <td>43.986579</td>\n",
              "      <td>-121.442592</td>\n",
              "      <td>4.871561e+06</td>\n",
              "      <td>624892.530215</td>\n",
              "      <td>25-SEP-09 10:26</td>\n",
              "      <td>4164.0</td>\n",
              "      <td>GPSMAP 76S</td>\n",
              "      <td>POINT (-121.44259 43.98658)</td>\n",
              "    </tr>\n",
              "    <tr>\n",
              "      <th>1</th>\n",
              "      <td>WAYPOINT</td>\n",
              "      <td>007</td>\n",
              "      <td>43.986731</td>\n",
              "      <td>-121.442680</td>\n",
              "      <td>4.871578e+06</td>\n",
              "      <td>624885.112036</td>\n",
              "      <td>25-SEP-09 10:26</td>\n",
              "      <td>4166.0</td>\n",
              "      <td>GPSMAP 76S</td>\n",
              "      <td>POINT (-121.44268 43.98673)</td>\n",
              "    </tr>\n",
              "    <tr>\n",
              "      <th>2</th>\n",
              "      <td>WAYPOINT</td>\n",
              "      <td>008</td>\n",
              "      <td>43.986779</td>\n",
              "      <td>-121.442730</td>\n",
              "      <td>4.871583e+06</td>\n",
              "      <td>624881.038550</td>\n",
              "      <td>25-SEP-09 10:26</td>\n",
              "      <td>4168.0</td>\n",
              "      <td>GPSMAP 76S</td>\n",
              "      <td>POINT (-121.44273 43.98678)</td>\n",
              "    </tr>\n",
              "    <tr>\n",
              "      <th>3</th>\n",
              "      <td>WAYPOINT</td>\n",
              "      <td>009</td>\n",
              "      <td>43.986841</td>\n",
              "      <td>-121.442784</td>\n",
              "      <td>4.871590e+06</td>\n",
              "      <td>624876.593645</td>\n",
              "      <td>25-SEP-09 10:26</td>\n",
              "      <td>4169.0</td>\n",
              "      <td>GPSMAP 76S</td>\n",
              "      <td>POINT (-121.44278 43.98684)</td>\n",
              "    </tr>\n",
              "    <tr>\n",
              "      <th>4</th>\n",
              "      <td>WAYPOINT</td>\n",
              "      <td>010</td>\n",
              "      <td>43.986888</td>\n",
              "      <td>-121.442831</td>\n",
              "      <td>4.871595e+06</td>\n",
              "      <td>624872.711268</td>\n",
              "      <td>25-SEP-09 10:27</td>\n",
              "      <td>4173.0</td>\n",
              "      <td>GPSMAP 76S</td>\n",
              "      <td>POINT (-121.44283 43.98689)</td>\n",
              "    </tr>\n",
              "    <tr>\n",
              "      <th>5</th>\n",
              "      <td>WAYPOINT</td>\n",
              "      <td>011</td>\n",
              "      <td>43.986898</td>\n",
              "      <td>-121.442877</td>\n",
              "      <td>4.871596e+06</td>\n",
              "      <td>624869.027845</td>\n",
              "      <td>25-SEP-09 10:27</td>\n",
              "      <td>4176.0</td>\n",
              "      <td>GPSMAP 76S</td>\n",
              "      <td>POINT (-121.44288 43.98690)</td>\n",
              "    </tr>\n",
              "    <tr>\n",
              "      <th>6</th>\n",
              "      <td>WAYPOINT</td>\n",
              "      <td>012</td>\n",
              "      <td>43.986937</td>\n",
              "      <td>-121.442844</td>\n",
              "      <td>4.871601e+06</td>\n",
              "      <td>624871.526545</td>\n",
              "      <td>25-SEP-09 10:27</td>\n",
              "      <td>4176.0</td>\n",
              "      <td>GPSMAP 76S</td>\n",
              "      <td>POINT (-121.44284 43.98694)</td>\n",
              "    </tr>\n",
              "  </tbody>\n",
              "</table>\n",
              "</div>"
            ],
            "text/plain": [
              "       TYPE IDENT        LAT  ...  ALTITUDE       MODEL                     geometry\n",
              "0  WAYPOINT   006  43.986579  ...    4164.0  GPSMAP 76S  POINT (-121.44259 43.98658)\n",
              "1  WAYPOINT   007  43.986731  ...    4166.0  GPSMAP 76S  POINT (-121.44268 43.98673)\n",
              "2  WAYPOINT   008  43.986779  ...    4168.0  GPSMAP 76S  POINT (-121.44273 43.98678)\n",
              "3  WAYPOINT   009  43.986841  ...    4169.0  GPSMAP 76S  POINT (-121.44278 43.98684)\n",
              "4  WAYPOINT   010  43.986888  ...    4173.0  GPSMAP 76S  POINT (-121.44283 43.98689)\n",
              "5  WAYPOINT   011  43.986898  ...    4176.0  GPSMAP 76S  POINT (-121.44288 43.98690)\n",
              "6  WAYPOINT   012  43.986937  ...    4176.0  GPSMAP 76S  POINT (-121.44284 43.98694)\n",
              "\n",
              "[7 rows x 10 columns]"
            ]
          },
          "metadata": {
            "tags": []
          },
          "execution_count": 79
        }
      ]
    },
    {
      "cell_type": "code",
      "metadata": {
        "colab": {
          "base_uri": "https://localhost:8080/"
        },
        "id": "Lm3mdSGtk4V0",
        "outputId": "ef76161b-7d60-4b12-d66f-0e7c5f53645b"
      },
      "source": [
        "HF2.crs = {'init' :'epsg:4269'}"
      ],
      "execution_count": null,
      "outputs": [
        {
          "output_type": "stream",
          "text": [
            "/usr/local/lib/python3.6/dist-packages/pyproj/crs/crs.py:53: FutureWarning:\n",
            "\n",
            "'+init=<authority>:<code>' syntax is deprecated. '<authority>:<code>' is the preferred initialization method. When making the change, be mindful of axis order changes: https://pyproj4.github.io/pyproj/stable/gotchas.html#axis-order-changes-in-proj-6\n",
            "\n"
          ],
          "name": "stderr"
        }
      ]
    },
    {
      "cell_type": "code",
      "metadata": {
        "colab": {
          "base_uri": "https://localhost:8080/"
        },
        "id": "LCawJAYNmHt9",
        "outputId": "5f3f9cf1-3e08-4b42-d9e7-32b8b9d6d44c"
      },
      "source": [
        "HF2.crs"
      ],
      "execution_count": null,
      "outputs": [
        {
          "output_type": "execute_result",
          "data": {
            "text/plain": [
              "<Geographic 2D CRS: +init=epsg:4269 +type=crs>\n",
              "Name: NAD83\n",
              "Axis Info [ellipsoidal]:\n",
              "- lon[east]: Longitude (degree)\n",
              "- lat[north]: Latitude (degree)\n",
              "Area of Use:\n",
              "- name: North America - onshore and offshore: Canada - Alberta; British Columbia; Manitoba; New Brunswick; Newfoundland and Labrador; Northwest Territories; Nova Scotia; Nunavut; Ontario; Prince Edward Island; Quebec; Saskatchewan; Yukon. Puerto Rico. United States (USA) - Alabama; Alaska; Arizona; Arkansas; California; Colorado; Connecticut; Delaware; Florida; Georgia; Hawaii; Idaho; Illinois; Indiana; Iowa; Kansas; Kentucky; Louisiana; Maine; Maryland; Massachusetts; Michigan; Minnesota; Mississippi; Missouri; Montana; Nebraska; Nevada; New Hampshire; New Jersey; New Mexico; New York; North Carolina; North Dakota; Ohio; Oklahoma; Oregon; Pennsylvania; Rhode Island; South Carolina; South Dakota; Tennessee; Texas; Utah; Vermont; Virginia; Washington; West Virginia; Wisconsin; Wyoming. US Virgin Islands.  British Virgin Islands.\n",
              "- bounds: (167.65, 14.92, -47.74, 86.46)\n",
              "Datum: North American Datum 1983\n",
              "- Ellipsoid: GRS 1980\n",
              "- Prime Meridian: Greenwich"
            ]
          },
          "metadata": {
            "tags": []
          },
          "execution_count": 81
        }
      ]
    },
    {
      "cell_type": "code",
      "metadata": {
        "id": "KZpg9hJ4k43k"
      },
      "source": [
        "HF2.to_file('HungaryFlat_corrected.shp')"
      ],
      "execution_count": null,
      "outputs": []
    },
    {
      "cell_type": "code",
      "metadata": {
        "id": "nsoD6w2pk49F"
      },
      "source": [
        "import plotly.graph_objs as go"
      ],
      "execution_count": null,
      "outputs": []
    },
    {
      "cell_type": "code",
      "metadata": {
        "colab": {
          "base_uri": "https://localhost:8080/",
          "height": 560
        },
        "id": "rZX3Gqtak5HS",
        "outputId": "ddc0d392-f0e5-4541-8bfc-1f0569395b8b"
      },
      "source": [
        "import plotly.offline as pyo\n",
        "token = open(\"mapbox_token.txt\").read()\n",
        "\n",
        "\n",
        "fig = go.Figure()\n",
        "\n",
        "fig.add_trace(go.Scattermapbox(\n",
        "    lon = HF2['LONG'], \n",
        "    lat = HF2['LAT'],\n",
        "    marker = {'size': 8, 'color':'rgb(48,74,247)'},\n",
        "    name = 'Hungary Flat Snow Course',\n",
        "    # customdata = customdata1,\n",
        "    # hovertemplate = \n",
        "    # '<b>%{customdata[0]}</b><br> Hydro. Obj.: %{customdata[2]}<br> Cont. Collection: %{customdata[3]}<br> Discr. Collection: %{customdata[4]}<br>'\n",
        "    ))\n",
        "\n",
        "fig.update_layout(\n",
        "    mapbox = {\n",
        "        'accesstoken': token,\n",
        "        'style': \"stamen-terrain\", \n",
        "        'zoom': 16,\n",
        "        'center':go.layout.mapbox.Center(lat=43.986579,lon=-121.442592)},\n",
        "        title = '<b>Hungary Flat</b>',\n",
        "        showlegend = True)\n",
        "\n",
        "fig.show()\n",
        "pyo.offline.plot(fig, filename='HungaryFlat_SnowCourse.html')"
      ],
      "execution_count": null,
      "outputs": [
        {
          "output_type": "display_data",
          "data": {
            "text/html": [
              "<html>\n",
              "<head><meta charset=\"utf-8\" /></head>\n",
              "<body>\n",
              "    <div>\n",
              "            <script src=\"https://cdnjs.cloudflare.com/ajax/libs/mathjax/2.7.5/MathJax.js?config=TeX-AMS-MML_SVG\"></script><script type=\"text/javascript\">if (window.MathJax) {MathJax.Hub.Config({SVG: {font: \"STIX-Web\"}});}</script>\n",
              "                <script type=\"text/javascript\">window.PlotlyConfig = {MathJaxConfig: 'local'};</script>\n",
              "        <script src=\"https://cdn.plot.ly/plotly-latest.min.js\"></script>    \n",
              "            <div id=\"e94dea94-3c73-4bdd-8471-cb2e47b13e34\" class=\"plotly-graph-div\" style=\"height:525px; width:100%;\"></div>\n",
              "            <script type=\"text/javascript\">\n",
              "                \n",
              "                    window.PLOTLYENV=window.PLOTLYENV || {};\n",
              "                    \n",
              "                if (document.getElementById(\"e94dea94-3c73-4bdd-8471-cb2e47b13e34\")) {\n",
              "                    Plotly.newPlot(\n",
              "                        'e94dea94-3c73-4bdd-8471-cb2e47b13e34',\n",
              "                        [{\"lat\": [43.9865787, 43.98673142, 43.98677945, 43.98684131, 43.98688808, 43.98689772, 43.98693678], \"lon\": [-121.44259181, -121.44268032, -121.44272986, -121.44278367, -121.44283086, -121.44287654, -121.44284436], \"marker\": {\"color\": \"rgb(48,74,247)\", \"size\": 8}, \"name\": \"Hungary Flat Snow Course\", \"type\": \"scattermapbox\"}],\n",
              "                        {\"mapbox\": {\"accesstoken\": \"pk.eyJ1IjoiZ2Vvc2tpbW90byIsImEiOiJja2NkcDBmcDEwMG5pMnJxcnQyMW01Z2djIn0.teiOyYjcWxex2zCtRjhzlA\", \"center\": {\"lat\": 43.986579, \"lon\": -121.442592}, \"style\": \"stamen-terrain\", \"zoom\": 16}, \"showlegend\": true, \"template\": {\"data\": {\"bar\": [{\"error_x\": {\"color\": \"#2a3f5f\"}, \"error_y\": {\"color\": \"#2a3f5f\"}, \"marker\": {\"line\": {\"color\": \"#E5ECF6\", \"width\": 0.5}}, \"type\": \"bar\"}], \"barpolar\": [{\"marker\": {\"line\": {\"color\": \"#E5ECF6\", \"width\": 0.5}}, \"type\": \"barpolar\"}], \"carpet\": [{\"aaxis\": {\"endlinecolor\": \"#2a3f5f\", \"gridcolor\": \"white\", \"linecolor\": \"white\", \"minorgridcolor\": \"white\", \"startlinecolor\": \"#2a3f5f\"}, \"baxis\": {\"endlinecolor\": \"#2a3f5f\", \"gridcolor\": \"white\", \"linecolor\": \"white\", \"minorgridcolor\": \"white\", \"startlinecolor\": \"#2a3f5f\"}, \"type\": \"carpet\"}], \"choropleth\": [{\"colorbar\": {\"outlinewidth\": 0, \"ticks\": \"\"}, \"type\": \"choropleth\"}], \"contour\": [{\"colorbar\": {\"outlinewidth\": 0, \"ticks\": \"\"}, \"colorscale\": [[0.0, \"#0d0887\"], [0.1111111111111111, \"#46039f\"], [0.2222222222222222, \"#7201a8\"], [0.3333333333333333, \"#9c179e\"], [0.4444444444444444, \"#bd3786\"], [0.5555555555555556, \"#d8576b\"], [0.6666666666666666, \"#ed7953\"], [0.7777777777777778, \"#fb9f3a\"], [0.8888888888888888, \"#fdca26\"], [1.0, \"#f0f921\"]], \"type\": \"contour\"}], \"contourcarpet\": [{\"colorbar\": {\"outlinewidth\": 0, \"ticks\": \"\"}, \"type\": \"contourcarpet\"}], \"heatmap\": [{\"colorbar\": {\"outlinewidth\": 0, \"ticks\": \"\"}, \"colorscale\": [[0.0, \"#0d0887\"], [0.1111111111111111, \"#46039f\"], [0.2222222222222222, \"#7201a8\"], [0.3333333333333333, \"#9c179e\"], [0.4444444444444444, \"#bd3786\"], [0.5555555555555556, \"#d8576b\"], [0.6666666666666666, \"#ed7953\"], [0.7777777777777778, \"#fb9f3a\"], [0.8888888888888888, \"#fdca26\"], [1.0, \"#f0f921\"]], \"type\": \"heatmap\"}], \"heatmapgl\": [{\"colorbar\": {\"outlinewidth\": 0, \"ticks\": \"\"}, \"colorscale\": [[0.0, \"#0d0887\"], [0.1111111111111111, \"#46039f\"], [0.2222222222222222, \"#7201a8\"], [0.3333333333333333, \"#9c179e\"], [0.4444444444444444, \"#bd3786\"], [0.5555555555555556, \"#d8576b\"], [0.6666666666666666, \"#ed7953\"], [0.7777777777777778, \"#fb9f3a\"], [0.8888888888888888, \"#fdca26\"], [1.0, \"#f0f921\"]], \"type\": \"heatmapgl\"}], \"histogram\": [{\"marker\": {\"colorbar\": {\"outlinewidth\": 0, \"ticks\": \"\"}}, \"type\": \"histogram\"}], \"histogram2d\": [{\"colorbar\": {\"outlinewidth\": 0, \"ticks\": \"\"}, \"colorscale\": [[0.0, \"#0d0887\"], [0.1111111111111111, \"#46039f\"], [0.2222222222222222, \"#7201a8\"], [0.3333333333333333, \"#9c179e\"], [0.4444444444444444, \"#bd3786\"], [0.5555555555555556, \"#d8576b\"], [0.6666666666666666, \"#ed7953\"], [0.7777777777777778, \"#fb9f3a\"], [0.8888888888888888, \"#fdca26\"], [1.0, \"#f0f921\"]], \"type\": \"histogram2d\"}], \"histogram2dcontour\": [{\"colorbar\": {\"outlinewidth\": 0, \"ticks\": \"\"}, \"colorscale\": [[0.0, \"#0d0887\"], [0.1111111111111111, \"#46039f\"], [0.2222222222222222, \"#7201a8\"], [0.3333333333333333, \"#9c179e\"], [0.4444444444444444, \"#bd3786\"], [0.5555555555555556, \"#d8576b\"], [0.6666666666666666, \"#ed7953\"], [0.7777777777777778, \"#fb9f3a\"], [0.8888888888888888, \"#fdca26\"], [1.0, \"#f0f921\"]], \"type\": \"histogram2dcontour\"}], \"mesh3d\": [{\"colorbar\": {\"outlinewidth\": 0, \"ticks\": \"\"}, \"type\": \"mesh3d\"}], \"parcoords\": [{\"line\": {\"colorbar\": {\"outlinewidth\": 0, \"ticks\": \"\"}}, \"type\": \"parcoords\"}], \"pie\": [{\"automargin\": true, \"type\": \"pie\"}], \"scatter\": [{\"marker\": {\"colorbar\": {\"outlinewidth\": 0, \"ticks\": \"\"}}, \"type\": \"scatter\"}], \"scatter3d\": [{\"line\": {\"colorbar\": {\"outlinewidth\": 0, \"ticks\": \"\"}}, \"marker\": {\"colorbar\": {\"outlinewidth\": 0, \"ticks\": \"\"}}, \"type\": \"scatter3d\"}], \"scattercarpet\": [{\"marker\": {\"colorbar\": {\"outlinewidth\": 0, \"ticks\": \"\"}}, \"type\": \"scattercarpet\"}], \"scattergeo\": [{\"marker\": {\"colorbar\": {\"outlinewidth\": 0, \"ticks\": \"\"}}, \"type\": \"scattergeo\"}], \"scattergl\": [{\"marker\": {\"colorbar\": {\"outlinewidth\": 0, \"ticks\": \"\"}}, \"type\": \"scattergl\"}], \"scattermapbox\": [{\"marker\": {\"colorbar\": {\"outlinewidth\": 0, \"ticks\": \"\"}}, \"type\": \"scattermapbox\"}], \"scatterpolar\": [{\"marker\": {\"colorbar\": {\"outlinewidth\": 0, \"ticks\": \"\"}}, \"type\": \"scatterpolar\"}], \"scatterpolargl\": [{\"marker\": {\"colorbar\": {\"outlinewidth\": 0, \"ticks\": \"\"}}, \"type\": \"scatterpolargl\"}], \"scatterternary\": [{\"marker\": {\"colorbar\": {\"outlinewidth\": 0, \"ticks\": \"\"}}, \"type\": \"scatterternary\"}], \"surface\": [{\"colorbar\": {\"outlinewidth\": 0, \"ticks\": \"\"}, \"colorscale\": [[0.0, \"#0d0887\"], [0.1111111111111111, \"#46039f\"], [0.2222222222222222, \"#7201a8\"], [0.3333333333333333, \"#9c179e\"], [0.4444444444444444, \"#bd3786\"], [0.5555555555555556, \"#d8576b\"], [0.6666666666666666, \"#ed7953\"], [0.7777777777777778, \"#fb9f3a\"], [0.8888888888888888, \"#fdca26\"], [1.0, \"#f0f921\"]], \"type\": \"surface\"}], \"table\": [{\"cells\": {\"fill\": {\"color\": \"#EBF0F8\"}, \"line\": {\"color\": \"white\"}}, \"header\": {\"fill\": {\"color\": \"#C8D4E3\"}, \"line\": {\"color\": \"white\"}}, \"type\": \"table\"}]}, \"layout\": {\"annotationdefaults\": {\"arrowcolor\": \"#2a3f5f\", \"arrowhead\": 0, \"arrowwidth\": 1}, \"coloraxis\": {\"colorbar\": {\"outlinewidth\": 0, \"ticks\": \"\"}}, \"colorscale\": {\"diverging\": [[0, \"#8e0152\"], [0.1, \"#c51b7d\"], [0.2, \"#de77ae\"], [0.3, \"#f1b6da\"], [0.4, \"#fde0ef\"], [0.5, \"#f7f7f7\"], [0.6, \"#e6f5d0\"], [0.7, \"#b8e186\"], [0.8, \"#7fbc41\"], [0.9, \"#4d9221\"], [1, \"#276419\"]], \"sequential\": [[0.0, \"#0d0887\"], [0.1111111111111111, \"#46039f\"], [0.2222222222222222, \"#7201a8\"], [0.3333333333333333, \"#9c179e\"], [0.4444444444444444, \"#bd3786\"], [0.5555555555555556, \"#d8576b\"], [0.6666666666666666, \"#ed7953\"], [0.7777777777777778, \"#fb9f3a\"], [0.8888888888888888, \"#fdca26\"], [1.0, \"#f0f921\"]], \"sequentialminus\": [[0.0, \"#0d0887\"], [0.1111111111111111, \"#46039f\"], [0.2222222222222222, \"#7201a8\"], [0.3333333333333333, \"#9c179e\"], [0.4444444444444444, \"#bd3786\"], [0.5555555555555556, \"#d8576b\"], [0.6666666666666666, \"#ed7953\"], [0.7777777777777778, \"#fb9f3a\"], [0.8888888888888888, \"#fdca26\"], [1.0, \"#f0f921\"]]}, \"colorway\": [\"#636efa\", \"#EF553B\", \"#00cc96\", \"#ab63fa\", \"#FFA15A\", \"#19d3f3\", \"#FF6692\", \"#B6E880\", \"#FF97FF\", \"#FECB52\"], \"font\": {\"color\": \"#2a3f5f\"}, \"geo\": {\"bgcolor\": \"white\", \"lakecolor\": \"white\", \"landcolor\": \"#E5ECF6\", \"showlakes\": true, \"showland\": true, \"subunitcolor\": \"white\"}, \"hoverlabel\": {\"align\": \"left\"}, \"hovermode\": \"closest\", \"mapbox\": {\"style\": \"light\"}, \"paper_bgcolor\": \"white\", \"plot_bgcolor\": \"#E5ECF6\", \"polar\": {\"angularaxis\": {\"gridcolor\": \"white\", \"linecolor\": \"white\", \"ticks\": \"\"}, \"bgcolor\": \"#E5ECF6\", \"radialaxis\": {\"gridcolor\": \"white\", \"linecolor\": \"white\", \"ticks\": \"\"}}, \"scene\": {\"xaxis\": {\"backgroundcolor\": \"#E5ECF6\", \"gridcolor\": \"white\", \"gridwidth\": 2, \"linecolor\": \"white\", \"showbackground\": true, \"ticks\": \"\", \"zerolinecolor\": \"white\"}, \"yaxis\": {\"backgroundcolor\": \"#E5ECF6\", \"gridcolor\": \"white\", \"gridwidth\": 2, \"linecolor\": \"white\", \"showbackground\": true, \"ticks\": \"\", \"zerolinecolor\": \"white\"}, \"zaxis\": {\"backgroundcolor\": \"#E5ECF6\", \"gridcolor\": \"white\", \"gridwidth\": 2, \"linecolor\": \"white\", \"showbackground\": true, \"ticks\": \"\", \"zerolinecolor\": \"white\"}}, \"shapedefaults\": {\"line\": {\"color\": \"#2a3f5f\"}}, \"ternary\": {\"aaxis\": {\"gridcolor\": \"white\", \"linecolor\": \"white\", \"ticks\": \"\"}, \"baxis\": {\"gridcolor\": \"white\", \"linecolor\": \"white\", \"ticks\": \"\"}, \"bgcolor\": \"#E5ECF6\", \"caxis\": {\"gridcolor\": \"white\", \"linecolor\": \"white\", \"ticks\": \"\"}}, \"title\": {\"x\": 0.05}, \"xaxis\": {\"automargin\": true, \"gridcolor\": \"white\", \"linecolor\": \"white\", \"ticks\": \"\", \"title\": {\"standoff\": 15}, \"zerolinecolor\": \"white\", \"zerolinewidth\": 2}, \"yaxis\": {\"automargin\": true, \"gridcolor\": \"white\", \"linecolor\": \"white\", \"ticks\": \"\", \"title\": {\"standoff\": 15}, \"zerolinecolor\": \"white\", \"zerolinewidth\": 2}}}, \"title\": {\"text\": \"<b>Hungary Flat</b>\"}},\n",
              "                        {\"responsive\": true}\n",
              "                    ).then(function(){\n",
              "                            \n",
              "var gd = document.getElementById('e94dea94-3c73-4bdd-8471-cb2e47b13e34');\n",
              "var x = new MutationObserver(function (mutations, observer) {{\n",
              "        var display = window.getComputedStyle(gd).display;\n",
              "        if (!display || display === 'none') {{\n",
              "            console.log([gd, 'removed!']);\n",
              "            Plotly.purge(gd);\n",
              "            observer.disconnect();\n",
              "        }}\n",
              "}});\n",
              "\n",
              "// Listen for the removal of the full notebook cells\n",
              "var notebookContainer = gd.closest('#notebook-container');\n",
              "if (notebookContainer) {{\n",
              "    x.observe(notebookContainer, {childList: true});\n",
              "}}\n",
              "\n",
              "// Listen for the clearing of the current output cell\n",
              "var outputEl = gd.closest('.output');\n",
              "if (outputEl) {{\n",
              "    x.observe(outputEl, {childList: true});\n",
              "}}\n",
              "\n",
              "                        })\n",
              "                };\n",
              "                \n",
              "            </script>\n",
              "        </div>\n",
              "</body>\n",
              "</html>"
            ]
          },
          "metadata": {
            "tags": []
          }
        },
        {
          "output_type": "execute_result",
          "data": {
            "application/vnd.google.colaboratory.intrinsic+json": {
              "type": "string"
            },
            "text/plain": [
              "'HungaryFlat_SnowCourse.html'"
            ]
          },
          "metadata": {
            "tags": []
          },
          "execution_count": 112
        }
      ]
    },
    {
      "cell_type": "code",
      "metadata": {
        "colab": {
          "base_uri": "https://localhost:8080/"
        },
        "id": "fSiXpWnANhr9",
        "outputId": "a1b2565f-3f19-4a69-d040-eb4d3a36ef90"
      },
      "source": [
        "HF2.total_bounds"
      ],
      "execution_count": null,
      "outputs": [
        {
          "output_type": "execute_result",
          "data": {
            "text/plain": [
              "array([-121.44287654,   43.9865787 , -121.44259181,   43.98693678])"
            ]
          },
          "metadata": {
            "tags": []
          },
          "execution_count": 108
        }
      ]
    },
    {
      "cell_type": "code",
      "metadata": {
        "colab": {
          "base_uri": "https://localhost:8080/"
        },
        "id": "G87W3ubjNn7C",
        "outputId": "ba295d72-8e3a-4124-eb44-8370b38b41a2"
      },
      "source": [
        "HF2.shape"
      ],
      "execution_count": null,
      "outputs": [
        {
          "output_type": "execute_result",
          "data": {
            "text/plain": [
              "(7, 10)"
            ]
          },
          "metadata": {
            "tags": []
          },
          "execution_count": 110
        }
      ]
    }
  ]
}